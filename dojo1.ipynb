{
 "cells": [
  {
   "cell_type": "code",
   "execution_count": 4,
   "metadata": {},
   "outputs": [],
   "source": [
    "from io import BytesIO\n",
    "from PIL import Image\n",
    "\n",
    "def get_bytes(path):\n",
    "    with Image.open(path) as im:\n",
    "        im.thumbnail((256, 256))\n",
    "        io = BytesIO()\n",
    "        im.convert('RGB').save(io, 'jpeg', quality=60)\n",
    "        return io.getvalue()"
   ]
  },
  {
   "cell_type": "code",
   "execution_count": 7,
   "metadata": {},
   "outputs": [],
   "source": [
    "import boto3\n",
    "from PIL import Image\n",
    "\n",
    "COLLECTION_ID = 'Korean-Idol'  # 정규표현식: [a-zA-Z0-9_.\\-]+\n",
    "\n",
    "client = boto3.client('rekognition')"
   ]
  },
  {
   "cell_type": "code",
   "execution_count": 9,
   "metadata": {},
   "outputs": [
    {
     "data": {
      "text/plain": [
       "[{'Name': 'Human', 'Confidence': 99.29705047607422},\n",
       " {'Name': 'People', 'Confidence': 99.29705047607422},\n",
       " {'Name': 'Person', 'Confidence': 99.29705047607422},\n",
       " {'Name': 'Boutique', 'Confidence': 96.0454330444336},\n",
       " {'Name': 'Shop', 'Confidence': 96.0454330444336},\n",
       " {'Name': 'Clothing', 'Confidence': 57.91236114501953},\n",
       " {'Name': 'Dress', 'Confidence': 57.91236114501953},\n",
       " {'Name': 'Dressing Room', 'Confidence': 57.480369567871094},\n",
       " {'Name': 'Indoors', 'Confidence': 57.480369567871094},\n",
       " {'Name': 'Room', 'Confidence': 57.480369567871094},\n",
       " {'Name': 'Lady', 'Confidence': 50.63943862915039},\n",
       " {'Name': 'Woman', 'Confidence': 50.63943862915039}]"
      ]
     },
     "execution_count": 9,
     "metadata": {},
     "output_type": "execute_result"
    }
   ],
   "source": [
    "# FIXME: 각자에 맞게 수정\n",
    "path = 'face_photos/blackpink-jennie/01.jpg'\n",
    "\n",
    "response = client.detect_labels(Image={'Bytes': get_bytes(path)})\n",
    "\n",
    "response['Labels']"
   ]
  },
  {
   "cell_type": "code",
   "execution_count": null,
   "metadata": {},
   "outputs": [],
   "source": []
  }
 ],
 "metadata": {
  "kernelspec": {
   "display_name": "Django Shell-Plus",
   "language": "python",
   "name": "django_extensions"
  },
  "language_info": {
   "codemirror_mode": {
    "name": "ipython",
    "version": 3
   },
   "file_extension": ".py",
   "mimetype": "text/x-python",
   "name": "python",
   "nbconvert_exporter": "python",
   "pygments_lexer": "ipython3",
   "version": "3.6.5"
  }
 },
 "nbformat": 4,
 "nbformat_minor": 2
}
